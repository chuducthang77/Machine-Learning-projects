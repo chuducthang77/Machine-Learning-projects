{
  "nbformat": 4,
  "nbformat_minor": 0,
  "metadata": {
    "colab": {
      "name": "HW5.ipynb",
      "provenance": [],
      "authorship_tag": "ABX9TyPNhVJwipflhMkDwgll7T2D",
      "include_colab_link": true
    },
    "kernelspec": {
      "name": "python3",
      "display_name": "Python 3"
    },
    "language_info": {
      "name": "python"
    }
  },
  "cells": [
    {
      "cell_type": "markdown",
      "metadata": {
        "id": "view-in-github",
        "colab_type": "text"
      },
      "source": [
        "<a href=\"https://colab.research.google.com/github/thangchu77/Machine-Learning-projects/blob/main/Convolution_network.ipynb\" target=\"_parent\"><img src=\"https://colab.research.google.com/assets/colab-badge.svg\" alt=\"Open In Colab\"/></a>"
      ]
    },
    {
      "cell_type": "markdown",
      "metadata": {
        "id": "a6iqgi0fCvum"
      },
      "source": [
        "# Problem set 1: Dataset has 10 points created from the function $\\textbf{y = x^2}$ + noise. Using sklearn.fit with function 9th degree. Provide another 100 points and use again the function 9th degree"
      ]
    },
    {
      "cell_type": "code",
      "metadata": {
        "id": "WeBY3nafGM31"
      },
      "source": [
        "from sklearn.preprocessing import PolynomialFeatures\n",
        "from sklearn.linear_model import LinearRegression\n",
        "import pandas as pd\n",
        "import numpy as np\n",
        "import matplotlib.pyplot as plt\n",
        "import operator"
      ],
      "execution_count": 9,
      "outputs": []
    },
    {
      "cell_type": "code",
      "metadata": {
        "id": "XujW0y7wGnG9"
      },
      "source": [
        "np.random.seed(0)\n",
        "noise = 1e-6\n",
        "X = np.random.normal(0,1,10).reshape(-1,1)\n",
        "y = np.square(X) + noise"
      ],
      "execution_count": 10,
      "outputs": []
    },
    {
      "cell_type": "code",
      "metadata": {
        "colab": {
          "base_uri": "https://localhost:8080/",
          "height": 265
        },
        "id": "a5sUt0ykHZhB",
        "outputId": "f332fb66-cb56-4710-a511-514461d031fe"
      },
      "source": [
        "plt.scatter(X, y)\n",
        "plt.show()"
      ],
      "execution_count": 11,
      "outputs": [
        {
          "output_type": "display_data",
          "data": {
            "image/png": "[encoded data removed]",
            "text/plain": [
              "<Figure size 432x288 with 1 Axes>"
            ]
          },
          "metadata": {
            "tags": [],
            "needs_background": "light"
          }
        }
      ]
    },
    {
      "cell_type": "code",
      "metadata": {
        "id": "PtAXdbnuJFl4"
      },
      "source": [
        "#Create a transformed model\n",
        "model = PolynomialFeatures(degree=9)\n",
        "X_transform = model.fit_transform(X)\n",
        "linear = LinearRegression()\n",
        "linear.fit(X_transform, y)\n",
        "y_pred = linear.predict(X_transform)\n"
      ],
      "execution_count": 12,
      "outputs": []
    },
    {
      "cell_type": "code",
      "metadata": {
        "colab": {
          "base_uri": "https://localhost:8080/",
          "height": 265
        },
        "id": "z12kUPzFKFaQ",
        "outputId": "36a75c07-6b02-4e33-8987-89ee6e457206"
      },
      "source": [
        "#Plot on the graph\n",
        "plt.scatter(X, y, c='r')\n",
        "\n",
        "sort_axis = operator.itemgetter(0)\n",
        "sorted_zip = sorted(zip(X,y_pred), key=sort_axis)\n",
        "x_sort, y_sort = zip(*sorted_zip)\n",
        "\n",
        "plt.plot(x_sort, y_sort, c='b')\n",
        "plt.show()"
      ],
      "execution_count": 13,
      "outputs": [
        {
          "output_type": "display_data",
          "data": {
            "image/png": "[encoded data removed]",
            "text/plain": [
              "<Figure size 432x288 with 1 Axes>"
            ]
          },
          "metadata": {
            "tags": [],
            "needs_background": "light"
          }
        }
      ]
    },
    {
      "cell_type": "code",
      "metadata": {
        "colab": {
          "base_uri": "https://localhost:8080/",
          "height": 282
        },
        "id": "2GIl1cXlUfJx",
        "outputId": "761e3f0e-63fc-43be-f355-314582203b52"
      },
      "source": [
        "#Add more data into the dataset\n",
        "Xnew = np.random.normal(0,1,100).reshape(-1,1)\n",
        "Xnew = np.append(X, Xnew).reshape(-1,1)\n",
        "Ynew = np.square(Xnew) + noise\n",
        "plt.scatter(Xnew, Ynew)"
      ],
      "execution_count": 14,
      "outputs": [
        {
          "output_type": "execute_result",
          "data": {
            "text/plain": [
              "<matplotlib.collections.PathCollection at 0x7f9f8ad181d0>"
            ]
          },
          "metadata": {
            "tags": []
          },
          "execution_count": 14
        },
        {
          "output_type": "display_data",
          "data": {
            "image/png": "[encoded data removed]",
            "text/plain": [
              "<Figure size 432x288 with 1 Axes>"
            ]
          },
          "metadata": {
            "tags": [],
            "needs_background": "light"
          }
        }
      ]
    },
    {
      "cell_type": "code",
      "metadata": {
        "id": "P3aYZyMHM7HY"
      },
      "source": [
        "#Fit and predict based on the new data\n",
        "Xnew_transform = model.fit_transform(Xnew)\n",
        "linear.fit(Xnew_transform, Ynew)\n",
        "ynew_pred = linear.predict(Xnew_transform)"
      ],
      "execution_count": null,
      "outputs": []
    },
    {
      "cell_type": "code",
      "metadata": {
        "colab": {
          "base_uri": "https://localhost:8080/",
          "height": 265
        },
        "id": "JDgX_mTjN6Y9",
        "outputId": "2cc2a29c-d01d-4c07-abeb-d71490f10a84"
      },
      "source": [
        "#Plot on the graph based on new data\n",
        "plt.scatter(Xnew, Ynew, c='r')\n",
        "\n",
        "sort_axis = operator.itemgetter(0)\n",
        "sorted_zip = sorted(zip(Xnew,ynew_pred), key=sort_axis)\n",
        "xnew_sort, ynew_sort = zip(*sorted_zip)\n",
        "\n",
        "plt.plot(xnew_sort, ynew_sort, c='b')\n",
        "plt.show()"
      ],
      "execution_count": null,
      "outputs": [
        {
          "output_type": "display_data",
          "data": {
            "image/png": "[encoded data removed]",
            "text/plain": [
              "<Figure size 432x288 with 1 Axes>"
            ]
          },
          "metadata": {
            "tags": [],
            "needs_background": "light"
          }
        }
      ]
    },
    {
      "cell_type": "markdown",
      "metadata": {
        "id": "1bNAY7SaDrZH"
      },
      "source": [
        "# Problem set 2: Implement convolution function with input X, W, stride, padding, output Y. Implement Sobel function"
      ]
    },
    {
      "cell_type": "code",
      "metadata": {
        "id": "jVZqCjP0PsaN"
      },
      "source": [
        ""
      ],
      "execution_count": null,
      "outputs": []
    },
    {
      "cell_type": "markdown",
      "metadata": {
        "id": "W9F8v5hND_AY"
      },
      "source": [
        "# Problem set 3: Change the learning rate, optimizer, kernel size, number of kernels and compare the result."
      ]
    },
    {
      "cell_type": "markdown",
      "metadata": {
        "id": "tpbQEERDENvy"
      },
      "source": [
        "# Problem set 4: Build VGG16 for cifar10\n"
      ]
    },
    {
      "cell_type": "markdown",
      "metadata": {
        "id": "priFfGv4Eb82"
      },
      "source": [
        "# Problem set 5: When we build the model, why the height and width reduce, but the depth increases"
      ]
    }
  ]
}