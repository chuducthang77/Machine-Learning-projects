{
  "nbformat": 4,
  "nbformat_minor": 0,
  "metadata": {
    "colab": {
      "name": "Hw1",
      "provenance": [],
      "collapsed_sections": [],
      "mount_file_id": "1k_vW84_xAP0-teKOXQ6nPmvKPX6c9p3X",
      "authorship_tag": "ABX9TyMNh7ykBObksnKBO8q20wPN",
      "include_colab_link": true
    },
    "kernelspec": {
      "name": "python3",
      "display_name": "Python 3"
    },
    "language_info": {
      "name": "python"
    }
  },
  "cells": [
    {
      "cell_type": "markdown",
      "metadata": {
        "id": "view-in-github",
        "colab_type": "text"
      },
      "source": [
        "<a href=\"https://colab.research.google.com/github/thangchu77/ML-projects/blob/main/Hw1.ipynb\" target=\"_parent\"><img src=\"https://colab.research.google.com/assets/colab-badge.svg\" alt=\"Open In Colab\"/></a>"
      ]
    },
    {
      "cell_type": "code",
      "metadata": {
        "id": "9Ds5eJGH43AK"
      },
      "source": [
        "import pandas as pd\n",
        "import numpy as np\n",
        "from matplotlib import pyplot as plt"
      ],
      "execution_count": 1,
      "outputs": []
    },
    {
      "cell_type": "code",
      "metadata": {
        "id": "mCp_ZdhEk1dn"
      },
      "source": [
        "#Preprocess the data: Mounting, convert data frame to np array, etc.\n",
        "data = pd.read_csv('/content/drive/MyDrive/Machine Learning/2. Linear regression/data_linear.csv')\n",
        "X = data.iloc[:, 0].to_numpy().reshape(-1,1)\n",
        "preX = X\n",
        "Y = data.iloc[:, 1].to_numpy().reshape(-1,1)\n",
        "X = np.hstack((np.ones((X.shape[0],1)), X))"
      ],
      "execution_count": 29,
      "outputs": []
    },
    {
      "cell_type": "code",
      "metadata": {
        "id": "7BZt1LOx7BJn"
      },
      "source": [
        "#Implementation of gradient descent algorithm\n",
        "def GD(Xtrain, Ytrain, epochs, lr):\n",
        "  weights = np.zeros((Xtrain.shape[1],1))\n",
        "  cost = np.zeros((epochs, 1))\n",
        "  for i in range(epochs):\n",
        "    r = np.dot(Xtrain, weights) - Ytrain\n",
        "    cost[i] = 0.5*np.sum(np.square(r))\n",
        "\n",
        "    gradient = np.dot(Xtrain.T, r)\n",
        "    weights -= lr * gradient\n",
        "\n",
        "  return weights, cost\n"
      ],
      "execution_count": 30,
      "outputs": []
    },
    {
      "cell_type": "code",
      "metadata": {
        "id": "r0CtxKA-6CTS",
        "colab": {
          "base_uri": "https://localhost:8080/",
          "height": 282
        },
        "outputId": "e9010b5b-5a95-4893-8137-b98d88072440"
      },
      "source": [
        "lr = [0.0000001, 0.00001, 0.0001]\n",
        "epochs = 500\n",
        "weights, cost = GD(X, Y, epochs, lr[0])\n",
        "\n",
        "#Plot the graph with x-axis is the number of epochs and y-axis is the error\n",
        "plot_epoch = []\n",
        "plot_cost = []\n",
        "for i in range(epochs):\n",
        "  if i % 5 == 0:\n",
        "    plot_epoch.append(i)\n",
        "    plot_cost.append(cost[i])\n",
        "\n",
        "#plt.plot(plot_epoch, plot_cost)\n",
        "\n",
        "predictions = np.dot(X, weights)\n",
        "plt.plot(preX, predictions)\n",
        "plt.scatter(preX, Y)"
      ],
      "execution_count": 34,
      "outputs": [
        {
          "output_type": "execute_result",
          "data": {
            "text/plain": [
              "<matplotlib.collections.PathCollection at 0x7f9e22e3f3d0>"
            ]
          },
          "metadata": {
            "tags": []
          },
          "execution_count": 34
        },
        {
          "output_type": "display_data",
          "data": {
            "image/png": "[encoded data removed]",
            "text/plain": [
              "<Figure size 432x288 with 1 Axes>"
            ]
          },
          "metadata": {
            "tags": [],
            "needs_background": "light"
          }
        }
      ]
    },
    {
      "cell_type": "code",
      "metadata": {
        "id": "OkFnPj9H1hVT"
      },
      "source": [
        "#With new input data, calculate the output price\n",
        "#Notice that the gradient is large due to new_data is randomly generated\n",
        "new_data = np.random.rand(1,2)\n",
        "new_X = new_data[:,0].reshape(-1,1)\n",
        "new_Y = new_data[:,1].reshape(-1,1)\n",
        "new_X = np.hstack((np.ones((new_X.shape[0],1)), new_X))\n",
        "\n",
        "new_prediction = np.dot(new_X, weights)\n",
        "r = new_prediction - new_Y\n",
        "error = 0.5*(r)**2\n",
        "\n",
        "gradient = np.dot(new_X.T, r)\n"
      ],
      "execution_count": null,
      "outputs": []
    },
    {
      "cell_type": "code",
      "metadata": {
        "id": "Eue6dos6qBEW",
        "colab": {
          "base_uri": "https://localhost:8080/",
          "height": 282
        },
        "outputId": "01b8c1a7-5844-4a2d-8b90-73b98133c65b"
      },
      "source": [
        "#Given the dataset of the parabola, how to fit the linear regression model\n",
        "squaredata = pd.read_csv('/content/drive/MyDrive/Machine Learning/2. Linear regression/data_square.csv').values\n",
        "Xsquare = squaredata[:,:1].reshape(-1,1)\n",
        "Ysquare = squaredata[:,1].reshape(-1,1)\n",
        "plt.scatter(Xsquare, Ysquare)\n",
        "print(Xsquare.shape)"
      ],
      "execution_count": 26,
      "outputs": [
        {
          "output_type": "stream",
          "text": [
            "(30, 1)\n"
          ],
          "name": "stdout"
        },
        {
          "output_type": "display_data",
          "data": {
            "image/png": "[encoded data removed]",
            "text/plain": [
              "<Figure size 432x288 with 1 Axes>"
            ]
          },
          "metadata": {
            "tags": [],
            "needs_background": "light"
          }
        }
      ]
    },
    {
      "cell_type": "code",
      "metadata": {
        "id": "7mylP_T6ixuL"
      },
      "source": [
        "squaredata = pd.read_csv('/content/drive/MyDrive/Machine Learning/2. Linear regression/data_square.csv').values\n",
        "N = squaredata.shape[0]\n",
        "col = squaredata.shape[1]\n",
        "x1 = squaredata[:,:-1].reshape(-1,col-1)\n",
        "x2 = x1*x1\n",
        "one_col = np.ones(N).reshape(-1,1)\n",
        "Y = squaredata[:,-1].reshape(-1,1)\n",
        "#Preprocess the data\n",
        "coefficient = Y.max()\n",
        "x1 = x1/x1.max()\n",
        "x2 = x2/x2.max()\n",
        "Y = Y/coefficient\n",
        "X = np.concatenate((one_col, x1, x2), axis=1)"
      ],
      "execution_count": 17,
      "outputs": []
    },
    {
      "cell_type": "code",
      "metadata": {
        "id": "-PK5kPhUxuJW"
      },
      "source": [
        "#Obtain the weight and square cost\n",
        "epochs = 10000\n",
        "lr = 0.01\n",
        "squareweight, squarecost = GD(X, Y, epochs, lr)"
      ],
      "execution_count": 18,
      "outputs": []
    },
    {
      "cell_type": "code",
      "metadata": {
        "colab": {
          "base_uri": "https://localhost:8080/",
          "height": 282
        },
        "id": "VDCKdEpsyeb8",
        "outputId": "460295f7-d3c3-4edf-c7af-746b9fd87356"
      },
      "source": [
        "#Plot the cost\n",
        "plt.plot(squarecost)"
      ],
      "execution_count": 19,
      "outputs": [
        {
          "output_type": "execute_result",
          "data": {
            "text/plain": [
              "[<matplotlib.lines.Line2D at 0x7f9e233f55d0>]"
            ]
          },
          "metadata": {
            "tags": []
          },
          "execution_count": 19
        },
        {
          "output_type": "display_data",
          "data": {
            "image/png": "[encoded data removed]",
            "text/plain": [
              "<Figure size 432x288 with 1 Axes>"
            ]
          },
          "metadata": {
            "tags": [],
            "needs_background": "light"
          }
        }
      ]
    },
    {
      "cell_type": "code",
      "metadata": {
        "colab": {
          "base_uri": "https://localhost:8080/"
        },
        "id": "5m_19Bwgys4A",
        "outputId": "5eaf64b2-bd37-46bb-ed32-d7f67968edbf"
      },
      "source": [
        "#Print the obtained weight\n",
        "print(squareweight.shape)"
      ],
      "execution_count": 23,
      "outputs": [
        {
          "output_type": "stream",
          "text": [
            "(3, 1)\n"
          ],
          "name": "stdout"
        }
      ]
    },
    {
      "cell_type": "code",
      "metadata": {
        "colab": {
          "base_uri": "https://localhost:8080/",
          "height": 282
        },
        "id": "291CVDvJy90X",
        "outputId": "7918efd2-5933-4014-f27e-c519747266fd"
      },
      "source": [
        "newY = np.dot(X, squareweight)*coefficient\n",
        "plt.plot(Xsquare, newY)"
      ],
      "execution_count": 28,
      "outputs": [
        {
          "output_type": "execute_result",
          "data": {
            "text/plain": [
              "[<matplotlib.lines.Line2D at 0x7f9e22f52690>]"
            ]
          },
          "metadata": {
            "tags": []
          },
          "execution_count": 28
        },
        {
          "output_type": "display_data",
          "data": {
            "image/png": "[encoded data removed]",
            "text/plain": [
              "<Figure size 432x288 with 1 Axes>"
            ]
          },
          "metadata": {
            "tags": [],
            "needs_background": "light"
          }
        }
      ]
    },
    {
      "cell_type": "markdown",
      "metadata": {
        "id": "auQw91X-62sO"
      },
      "source": [
        "Prove the following \n",
        "\n",
        "Suppose $J$ denotes as loss function for gradient descent, prove that\n",
        "\n",
        "> $\\frac{dJ}{dw} = X^T(XW - Y)$ \n",
        "> Without the loss of generality, notice that $\\frac{dJ}{dw} = \\begin{bmatrix} \\sum_{i=1}^n (x_i\\dot w - y_i) \\\\ \\sum_{i=1}^n (x_i\\dot w - y_i)x_i \\end{bmatrix}$ = $\\begin{bmatrix} x_1 ... x_n \\end{bmatrix}$ \n",
        "X = $\\begin{bmatrix} 1 & x_1 \\\\ 1 & x_2 \\\\ ... & ... \\\\ 1 & x_n\\end{bmatrix}$, \n",
        "$X^T$ = $\\begin{bmatrix}1 & 1 & ... & 1 \\\\ x_1 & x_2 & ... & x_n\\end{bmatrix}$, W = $\\begin{bmatrix}w_0 \\\\ w_1\\end{bmatrix}$, Y = $\\begin{bmatrix}y_1 \\\\ y_2 \\\\ ... \\\\ y_n \\end{bmatrix}$\n",
        "\n",
        "XW - Y = $\\begin{bmatrix} w_0 + x_1\\dot w_1 - y_1 \\\\ w_0 + x_2\\dot w_1 - y_2 \\\\ ... \\\\ w_0 + x_n\\dot w_1 - y_n \\end{bmatrix}$\n",
        "$X^T(XW - Y)$ = $\\begin{bmatrix}1 & 1 & ... & 1 \\\\ x_1 & x_2 & ... & x_n\\end{bmatrix}\\begin{bmatrix} w_0 + x_1\\dot w_1 - y_1 \\\\ w_0 + x_2\\dot w_1 - y_2 \\\\ ... \\\\ w_0 + x_n\\dot w_1 - y_n \\end{bmatrix}$ = $\\begin{bmatrix} \\sum_{i=1}^n (x_i\\dot w - y_i) \\\\ \\sum_{i=1}^n (x_i\\dot w - y_i)x_i \\end{bmatrix}$\n",
        "\n",
        "\n",
        "\n",
        "\n",
        "\n",
        "\n",
        "\n"
      ]
    }
  ]
}