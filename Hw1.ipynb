{
  "nbformat": 4,
  "nbformat_minor": 0,
  "metadata": {
    "colab": {
      "name": "Hw1",
      "provenance": [],
      "collapsed_sections": [],
      "mount_file_id": "1k_vW84_xAP0-teKOXQ6nPmvKPX6c9p3X",
      "authorship_tag": "ABX9TyO31V2gSaxxwH0rFvQRXXiO",
      "include_colab_link": true
    },
    "kernelspec": {
      "name": "python3",
      "display_name": "Python 3"
    },
    "language_info": {
      "name": "python"
    }
  },
  "cells": [
    {
      "cell_type": "markdown",
      "metadata": {
        "id": "view-in-github",
        "colab_type": "text"
      },
      "source": [
        "<a href=\"https://colab.research.google.com/github/thangchu77/ML-projects/blob/main/Hw1.ipynb\" target=\"_parent\"><img src=\"https://colab.research.google.com/assets/colab-badge.svg\" alt=\"Open In Colab\"/></a>"
      ]
    },
    {
      "cell_type": "code",
      "metadata": {
        "id": "9Ds5eJGH43AK"
      },
      "source": [
        "import pandas as pd\n",
        "import numpy as np\n",
        "from matplotlib import pyplot as plt"
      ],
      "execution_count": 1,
      "outputs": []
    },
    {
      "cell_type": "code",
      "metadata": {
        "id": "mCp_ZdhEk1dn"
      },
      "source": [
        "#Preprocess the data: Mounting, convert data frame to np array, etc.\n",
        "data = pd.read_csv('/content/drive/MyDrive/Machine Learning/2. Linear regression/data_linear.csv')\n",
        "X = data.iloc[:, 0].to_numpy().reshape(-1,1)\n",
        "Y = data.iloc[:, 1].to_numpy().reshape(-1,1)\n",
        "X = np.hstack((np.ones((X.shape[0],1)), X))"
      ],
      "execution_count": 2,
      "outputs": []
    },
    {
      "cell_type": "code",
      "metadata": {
        "id": "7BZt1LOx7BJn"
      },
      "source": [
        "#Implementation of gradient descent algorithm\n",
        "def GD(Xtrain, Ytrain, epochs, lr):\n",
        "  weights = np.zeros((Xtrain.shape[1],1))\n",
        "  cost = np.zeros((epochs, 1))\n",
        "  for i in range(epochs):\n",
        "    r = np.dot(Xtrain, weights) - Ytrain\n",
        "    cost[i] = 0.5*np.sum(np.square(r))\n",
        "\n",
        "    gradient = np.dot(Xtrain.T, r)\n",
        "    weights -= lr * gradient\n",
        "\n",
        "  return weights, cost\n"
      ],
      "execution_count": 3,
      "outputs": []
    },
    {
      "cell_type": "code",
      "metadata": {
        "id": "r0CtxKA-6CTS",
        "colab": {
          "base_uri": "https://localhost:8080/",
          "height": 276
        },
        "outputId": "563d74bb-1d91-4173-ff78-c595f3a760e6"
      },
      "source": [
        "lr = [0.0000001, 0.00001, 0.0001]\n",
        "epochs = 500\n",
        "weights, cost = GD(X, Y, epochs, lr[0])\n",
        "\n",
        "#Plot the graph with x-axis is the number of epochs and y-axis is the error\n",
        "plot_epoch = []\n",
        "plot_cost = []\n",
        "for i in range(epochs):\n",
        "  if i % 5 == 0:\n",
        "    plot_epoch.append(i)\n",
        "    plot_cost.append(cost[i])\n",
        "\n",
        "plt.plot(plot_epoch, plot_cost)\n",
        "\n",
        "predictions = np.dot(X, weights)\n"
      ],
      "execution_count": 5,
      "outputs": [
        {
          "output_type": "display_data",
          "data": {
            "image/png": "[encoded data removed]",
            "text/plain": [
              "<Figure size 432x288 with 1 Axes>"
            ]
          },
          "metadata": {
            "tags": [],
            "needs_background": "light"
          }
        }
      ]
    },
    {
      "cell_type": "code",
      "metadata": {
        "id": "OkFnPj9H1hVT"
      },
      "source": [
        "#With new input data, calculate the output price\n",
        "#Notice that the gradient is large due to new_data is randomly generated\n",
        "new_data = np.random.rand(1,2)\n",
        "new_X = new_data[:,0].reshape(-1,1)\n",
        "new_Y = new_data[:,1].reshape(-1,1)\n",
        "new_X = np.hstack((np.ones((new_X.shape[0],1)), new_X))\n",
        "\n",
        "new_prediction = np.dot(new_X, weights)\n",
        "r = new_prediction - new_Y\n",
        "error = 0.5*(r)**2\n",
        "\n",
        "gradient = np.dot(new_X.T, r)\n"
      ],
      "execution_count": 7,
      "outputs": []
    },
    {
      "cell_type": "code",
      "metadata": {
        "id": "Eue6dos6qBEW"
      },
      "source": [
        "#Given the dataset of the parabola, how to fit the linear regression model\n",
        "squaredata = pd.read_csv('/content/drive/MyDrive/Machine Learning/2. Linear regression/data_square.csv').values\n",
        "Xsquare = squaredata[:,:1].reshape(-1,1)\n",
        "Ysquare = squaredata[:,1].reshape(-1,1)\n",
        "Xsquare = np.hstack((np.ones((Xsquare.shape[0],1)), Xsquare))\n",
        "Xsquare = np.hstack((Xsquare, np.square(Xsquare[:,1].reshape(-1,1))))\n",
        "\n",
        "#Normalizing the data\n",
        "coefficient = [np.mean(Xsquare[:,2]), np.std(Xsquare[:,2])]\n",
        "Xsquare[:,2] = (Xsquare[:,2] - coefficient[0])/coefficient[1]\n",
        "\n",
        "#Using the original GD and plot we have\n",
        "lr = 0.00001\n",
        "epochs = 1000\n",
        "\n",
        "NewSquareWeights, NewSquareCost = GD(Xsquare, Ysquare, epochs, lr)\n",
        "Xsquare[:,2] = Xsquare[:,2] * coefficient[1] + coefficient[0]\n",
        "NewSquarePrediction = np.dot(Xsquare, NewSquareWeights)\n",
        "print(NewSquarePrediction)\n",
        "print(Ysquare)\n",
        "plt.plot(NewSquarePrediction)"
      ],
      "execution_count": null,
      "outputs": []
    },
    {
      "cell_type": "markdown",
      "metadata": {
        "id": "auQw91X-62sO"
      },
      "source": [
        "Prove the following \n",
        "\n",
        "Suppose $J$ denotes as loss function for gradient descent, prove that\n",
        "\n",
        "> $\\frac{dJ}{dw} = X^T(XW - Y)$ \n",
        "> Without the loss of generality, notice that $\\frac{dJ}{dw} = \\begin{bmatrix} \\sum_{i=1}^n (x_i\\dot w - y_i) \\\\ \\sum_{i=1}^n (x_i\\dot w - y_i)x_i \\end{bmatrix}$ = $\\begin{bmatrix} x_1 ... x_n \\end{bmatrix}$ \n",
        "X = $\\begin{bmatrix} 1 & x_1 \\\\ 1 & x_2 \\\\ ... & ... \\\\ 1 & x_n\\end{bmatrix}$, \n",
        "$X^T$ = $\\begin{bmatrix}1 & 1 & ... & 1 \\\\ x_1 & x_2 & ... & x_n\\end{bmatrix}$, W = $\\begin{bmatrix}w_0 \\\\ w_1\\end{bmatrix}$, Y = $\\begin{bmatrix}y_1 \\\\ y_2 \\\\ ... \\\\ y_n \\end{bmatrix}$\n",
        "\n",
        "XW - Y = $\\begin{bmatrix} w_0 + x_1\\dot w_1 - y_1 \\\\ w_0 + x_2\\dot w_1 - y_2 \\\\ ... \\\\ w_0 + x_n\\dot w_1 - y_n \\end{bmatrix}$\n",
        "$X^T(XW - Y)$ = $\\begin{bmatrix}1 & 1 & ... & 1 \\\\ x_1 & x_2 & ... & x_n\\end{bmatrix}\\begin{bmatrix} w_0 + x_1\\dot w_1 - y_1 \\\\ w_0 + x_2\\dot w_1 - y_2 \\\\ ... \\\\ w_0 + x_n\\dot w_1 - y_n \\end{bmatrix}$ = $\\begin{bmatrix} \\sum_{i=1}^n (x_i\\dot w - y_i) \\\\ \\sum_{i=1}^n (x_i\\dot w - y_i)x_i \\end{bmatrix}$\n",
        "\n",
        "\n",
        "\n",
        "\n",
        "\n",
        "\n",
        "\n"
      ]
    }
  ]
}